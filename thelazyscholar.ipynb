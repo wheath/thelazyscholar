{
  "nbformat": 4,
  "nbformat_minor": 0,
  "metadata": {
    "colab": {
      "provenance": [],
      "authorship_tag": "ABX9TyM6yIKqIRe6KjEVXv89QSmk",
      "include_colab_link": true
    },
    "kernelspec": {
      "name": "python3",
      "display_name": "Python 3"
    },
    "language_info": {
      "name": "python"
    }
  },
  "cells": [
    {
      "cell_type": "markdown",
      "metadata": {
        "id": "view-in-github",
        "colab_type": "text"
      },
      "source": [
        "<a href=\"https://colab.research.google.com/github/wheath/thelazyscholar/blob/main/thelazyscholar.ipynb\" target=\"_parent\"><img src=\"https://colab.research.google.com/assets/colab-badge.svg\" alt=\"Open In Colab\"/></a>"
      ]
    },
    {
      "cell_type": "code",
      "source": [
        "!pip install weaviate-client"
      ],
      "metadata": {
        "colab": {
          "base_uri": "https://localhost:8080/"
        },
        "id": "WSb53JNquAnZ",
        "outputId": "8a4cfe3b-baf1-4ae2-89c4-2bd8acb2cd40"
      },
      "execution_count": 2,
      "outputs": [
        {
          "output_type": "stream",
          "name": "stdout",
          "text": [
            "Looking in indexes: https://pypi.org/simple, https://us-python.pkg.dev/colab-wheels/public/simple/\n",
            "Collecting weaviate-client\n",
            "  Downloading weaviate_client-3.18.0-py3-none-any.whl (95 kB)\n",
            "\u001b[2K     \u001b[90m━━━━━━━━━━━━━━━━━━━━━━━━━━━━━━━━━━━━━━━━\u001b[0m \u001b[32m95.6/95.6 kB\u001b[0m \u001b[31m3.6 MB/s\u001b[0m eta \u001b[36m0:00:00\u001b[0m\n",
            "\u001b[?25hCollecting requests<2.29.0,>=2.28.0 (from weaviate-client)\n",
            "  Downloading requests-2.28.2-py3-none-any.whl (62 kB)\n",
            "\u001b[2K     \u001b[90m━━━━━━━━━━━━━━━━━━━━━━━━━━━━━━━━━━━━━━━━\u001b[0m \u001b[32m62.8/62.8 kB\u001b[0m \u001b[31m7.7 MB/s\u001b[0m eta \u001b[36m0:00:00\u001b[0m\n",
            "\u001b[?25hCollecting validators<=0.21.0,>=0.18.2 (from weaviate-client)\n",
            "  Downloading validators-0.20.0.tar.gz (30 kB)\n",
            "  Preparing metadata (setup.py) ... \u001b[?25l\u001b[?25hdone\n",
            "Requirement already satisfied: tqdm<5.0.0,>=4.59.0 in /usr/local/lib/python3.10/dist-packages (from weaviate-client) (4.65.0)\n",
            "Collecting authlib>=1.1.0 (from weaviate-client)\n",
            "  Downloading Authlib-1.2.0-py2.py3-none-any.whl (214 kB)\n",
            "\u001b[2K     \u001b[90m━━━━━━━━━━━━━━━━━━━━━━━━━━━━━━━━━━━━━━\u001b[0m \u001b[32m214.8/214.8 kB\u001b[0m \u001b[31m11.2 MB/s\u001b[0m eta \u001b[36m0:00:00\u001b[0m\n",
            "\u001b[?25hRequirement already satisfied: cryptography>=3.2 in /usr/local/lib/python3.10/dist-packages (from authlib>=1.1.0->weaviate-client) (40.0.2)\n",
            "Requirement already satisfied: charset-normalizer<4,>=2 in /usr/local/lib/python3.10/dist-packages (from requests<2.29.0,>=2.28.0->weaviate-client) (2.0.12)\n",
            "Requirement already satisfied: idna<4,>=2.5 in /usr/local/lib/python3.10/dist-packages (from requests<2.29.0,>=2.28.0->weaviate-client) (3.4)\n",
            "Requirement already satisfied: urllib3<1.27,>=1.21.1 in /usr/local/lib/python3.10/dist-packages (from requests<2.29.0,>=2.28.0->weaviate-client) (1.26.15)\n",
            "Requirement already satisfied: certifi>=2017.4.17 in /usr/local/lib/python3.10/dist-packages (from requests<2.29.0,>=2.28.0->weaviate-client) (2022.12.7)\n",
            "Requirement already satisfied: decorator>=3.4.0 in /usr/local/lib/python3.10/dist-packages (from validators<=0.21.0,>=0.18.2->weaviate-client) (4.4.2)\n",
            "Requirement already satisfied: cffi>=1.12 in /usr/local/lib/python3.10/dist-packages (from cryptography>=3.2->authlib>=1.1.0->weaviate-client) (1.15.1)\n",
            "Requirement already satisfied: pycparser in /usr/local/lib/python3.10/dist-packages (from cffi>=1.12->cryptography>=3.2->authlib>=1.1.0->weaviate-client) (2.21)\n",
            "Building wheels for collected packages: validators\n",
            "  Building wheel for validators (setup.py) ... \u001b[?25l\u001b[?25hdone\n",
            "  Created wheel for validators: filename=validators-0.20.0-py3-none-any.whl size=19579 sha256=ea7d66b774674a83fcc820ffc71f320bc40853838aea1421c7699a58df85d99c\n",
            "  Stored in directory: /root/.cache/pip/wheels/f2/ed/dd/d3a556ad245ef9dc570c6bcd2f22886d17b0b408dd3bbb9ac3\n",
            "Successfully built validators\n",
            "Installing collected packages: validators, requests, authlib, weaviate-client\n",
            "  Attempting uninstall: requests\n",
            "    Found existing installation: requests 2.27.1\n",
            "    Uninstalling requests-2.27.1:\n",
            "      Successfully uninstalled requests-2.27.1\n",
            "Successfully installed authlib-1.2.0 requests-2.28.2 validators-0.20.0 weaviate-client-3.18.0\n"
          ]
        }
      ]
    },
    {
      "cell_type": "code",
      "execution_count": 5,
      "metadata": {
        "colab": {
          "base_uri": "https://localhost:8080/"
        },
        "id": "XJoYWvyutkCW",
        "outputId": "e15f5893-cb31-45fb-ae91-9324241e2b18"
      },
      "outputs": [
        {
          "output_type": "execute_result",
          "data": {
            "text/plain": [
              "True"
            ]
          },
          "metadata": {},
          "execution_count": 5
        }
      ],
      "source": [
        "import os\n",
        "import weaviate\n",
        "\n",
        "client = weaviate.Client(\n",
        "    url=\"https://thelazyscholar-uuhw7wj2.weaviate.network\",\n",
        "    additional_headers={\n",
        "        \"X-OpenAI-Api-Key\": \"NYB\",   # Replace w/ your OpenAI Key \n",
        "    }\n",
        ")\n",
        "client.is_ready()\n"
      ]
    },
    {
      "cell_type": "code",
      "source": [
        "#Clear up the schema, so that we can recreate it\n",
        "\n",
        "#client.schema.delete_all()\n",
        "client.schema.get()\n",
        "\n",
        "# Define the Schema object to use `text-embedding-ada-002` on `title` and `content`, but skip it for `url`\n",
        "article_schema = {\n",
        "    \"class\": \"Article\",\n",
        "    \"description\": \"A collection of articles\",\n",
        "    \"vectorizer\": \"text2vec-openai\",\n",
        "    \"moduleConfig\": {\n",
        "        \"text2vec-openai\": {\n",
        "          \"model\": \"ada\",\n",
        "          \"modelVersion\": \"002\",\n",
        "          \"type\": \"text\"\n",
        "        },\n",
        "        \"generative-openai\": {\n",
        "            \"model\": \"gpt-3.5-turbo\"\n",
        "            \n",
        "        }\n",
        "    },\n",
        "    \"properties\": [{\n",
        "        \"name\": \"title\",\n",
        "        \"description\": \"Title of the article\",\n",
        "        \"dataType\": [\"string\"]\n",
        "    },\n",
        "    {\n",
        "        \"name\": \"execsummary\",\n",
        "        \"description\": \"executive summary of the article\",\n",
        "        \"dataType\": [\"text\"]\n",
        "    },\n",
        "    {\n",
        "        \"name\": \"url\",\n",
        "        \"description\": \"URL to the article\",\n",
        "        \"dataType\": [\"string\"],\n",
        "        \"moduleConfig\": { \"text2vec-openai\": { \"skip\": True } }\n",
        "    }]\n",
        "}\n",
        "\n",
        "# add the Article schema\n",
        "client.schema.create_class(article_schema)\n",
        "\n",
        "# get the schema to make sure it worked\n",
        "client.schema.get()"
      ],
      "metadata": {
        "colab": {
          "base_uri": "https://localhost:8080/"
        },
        "id": "80QmVZl6zsSW",
        "outputId": "e498069f-abf2-4627-d1a8-ba6c61d6906b"
      },
      "execution_count": 33,
      "outputs": [
        {
          "output_type": "execute_result",
          "data": {
            "text/plain": [
              "{'classes': [{'class': 'Article',\n",
              "   'description': 'A collection of articles',\n",
              "   'invertedIndexConfig': {'bm25': {'b': 0.75, 'k1': 1.2},\n",
              "    'cleanupIntervalSeconds': 60,\n",
              "    'stopwords': {'additions': None, 'preset': 'en', 'removals': None}},\n",
              "   'moduleConfig': {'generative-openai': {'model': 'gpt-3.5-turbo'},\n",
              "    'text2vec-openai': {'model': 'ada',\n",
              "     'modelVersion': '002',\n",
              "     'type': 'text',\n",
              "     'vectorizeClassName': True}},\n",
              "   'properties': [{'dataType': ['text'],\n",
              "     'description': 'Title of the article',\n",
              "     'indexFilterable': True,\n",
              "     'indexSearchable': True,\n",
              "     'moduleConfig': {'text2vec-openai': {'skip': False,\n",
              "       'vectorizePropertyName': False}},\n",
              "     'name': 'title',\n",
              "     'tokenization': 'whitespace'},\n",
              "    {'dataType': ['text'],\n",
              "     'description': 'executive summary of the article',\n",
              "     'indexFilterable': True,\n",
              "     'indexSearchable': True,\n",
              "     'moduleConfig': {'text2vec-openai': {'skip': False,\n",
              "       'vectorizePropertyName': False}},\n",
              "     'name': 'execsummary',\n",
              "     'tokenization': 'word'},\n",
              "    {'dataType': ['text'],\n",
              "     'description': 'URL to the article',\n",
              "     'indexFilterable': True,\n",
              "     'indexSearchable': True,\n",
              "     'moduleConfig': {'text2vec-openai': {'skip': True,\n",
              "       'vectorizePropertyName': False}},\n",
              "     'name': 'url',\n",
              "     'tokenization': 'whitespace'}],\n",
              "   'replicationConfig': {'factor': 1},\n",
              "   'shardingConfig': {'virtualPerPhysical': 128,\n",
              "    'desiredCount': 1,\n",
              "    'actualCount': 1,\n",
              "    'desiredVirtualCount': 128,\n",
              "    'actualVirtualCount': 128,\n",
              "    'key': '_id',\n",
              "    'strategy': 'hash',\n",
              "    'function': 'murmur3'},\n",
              "   'vectorIndexConfig': {'skip': False,\n",
              "    'cleanupIntervalSeconds': 300,\n",
              "    'maxConnections': 64,\n",
              "    'efConstruction': 128,\n",
              "    'ef': -1,\n",
              "    'dynamicEfMin': 100,\n",
              "    'dynamicEfMax': 500,\n",
              "    'dynamicEfFactor': 8,\n",
              "    'vectorCacheMaxObjects': 1000000000000,\n",
              "    'flatSearchCutoff': 40000,\n",
              "    'distance': 'cosine',\n",
              "    'pq': {'enabled': False,\n",
              "     'bitCompression': False,\n",
              "     'segments': 0,\n",
              "     'centroids': 256,\n",
              "     'encoder': {'type': 'kmeans', 'distribution': 'log-normal'}}},\n",
              "   'vectorIndexType': 'hnsw',\n",
              "   'vectorizer': 'text2vec-openai'}]}"
            ]
          },
          "metadata": {},
          "execution_count": 33
        }
      ]
    },
    {
      "cell_type": "code",
      "source": [
        "### Step 2 - configure Weaviate Batch, with\n",
        "# - starting batch size of 100\n",
        "# - dynamically increase/decrease based on performance\n",
        "# - add timeout retries if something goes wrong\n",
        "\n",
        "client.batch.configure(\n",
        "    batch_size=10, \n",
        "    dynamic=True,\n",
        "    timeout_retries=3,\n",
        "#   callback=None,\n",
        ")"
      ],
      "metadata": {
        "colab": {
          "base_uri": "https://localhost:8080/"
        },
        "id": "LCe4TIm_0LSo",
        "outputId": "e10a0940-2b92-43ed-9b4b-7529bfb1cbe8"
      },
      "execution_count": 34,
      "outputs": [
        {
          "output_type": "execute_result",
          "data": {
            "text/plain": [
              "<weaviate.batch.crud_batch.Batch at 0x7f10d4570a30>"
            ]
          },
          "metadata": {},
          "execution_count": 34
        }
      ]
    },
    {
      "cell_type": "code",
      "source": [
        "### Step 3 - import data\n",
        "\n",
        "print(\"Importing Articles\")\n",
        "\n",
        "\n",
        "\n",
        "with client.batch as batch:\n",
        "   \n",
        "\n",
        "        properties = {\n",
        "            \"title\": \"The Cathedral and the Bazaar\",\n",
        "            \"execsummary\": \"The Cathedral and the Bazaar: Musings on Linux and Open Source by an Accidental Revolutionary (abbreviated CatB) is an essay, and later a book, by Eric S. Raymond on software engineering methods, based on his observations of the Linux kernel development process and his experiences managing an open source project, fetchmail. It examines the struggle between top-down and bottom-up design. The essay was first presented by the author at the Linux Kongress on May 27, 1997 in Würzburg (Germany) and was published as the second chapter of the same‑titled book in 1999.\",\n",
        "            \"url\": \"https://en.wikipedia.org/wiki/The_Cathedral_and_the_Bazaar\"\n",
        "        }\n",
        "        \n",
        "        batch.add_data_object(properties, \"Article\")\n",
        "        \n",
        "print(\"Importing Articles complete\")       "
      ],
      "metadata": {
        "colab": {
          "base_uri": "https://localhost:8080/"
        },
        "id": "LtxHH5o70Te0",
        "outputId": "83459c44-3fa6-4f54-8476-0c35ce180444"
      },
      "execution_count": 35,
      "outputs": [
        {
          "output_type": "stream",
          "name": "stdout",
          "text": [
            "Importing Articles\n",
            "Importing Articles complete\n"
          ]
        }
      ]
    },
    {
      "cell_type": "code",
      "source": [
        "# Test that all data has loaded – get object count\n",
        "result = (\n",
        "    client.query.aggregate(\"Article\")\n",
        "    .with_fields(\"meta { count }\")\n",
        "    .do()\n",
        ")\n",
        "print(\"Object count: \", result[\"data\"][\"Aggregate\"][\"Article\"], \"\\n\")"
      ],
      "metadata": {
        "colab": {
          "base_uri": "https://localhost:8080/"
        },
        "id": "IEayuzGl1OZR",
        "outputId": "3dd9bd03-cdb2-4942-fa7b-322a7dc8cd69"
      },
      "execution_count": 9,
      "outputs": [
        {
          "output_type": "stream",
          "name": "stdout",
          "text": [
            "Object count:  [{'meta': {'count': 1}}] \n",
            "\n"
          ]
        }
      ]
    },
    {
      "cell_type": "code",
      "source": [
        "def query_weaviate(query):\n",
        "    \n",
        "    nearText = {\n",
        "        \"concepts\": [query],\n",
        "        \"distance\": 0.7,\n",
        "    }\n",
        "\n",
        "    properties = [\n",
        "        \"title\", \"execsummary\", \"url\",\n",
        "        \"_additional {certainty distance}\"\n",
        "    ]\n",
        "\n",
        "    result = (\n",
        "        client.query\n",
        "        .get(\"Article\", properties)\n",
        "        .with_near_text(nearText)\n",
        "        .with_limit(10)\n",
        "        .do()\n",
        "    )\n",
        "    \n",
        "    # Check for errors\n",
        "    if (\"errors\" in result):\n",
        "        print (\"\\033[91mYou probably have run out of OpenAI API calls for the current minute – the limit is set at 60 per minute.\")\n",
        "        raise Exception(result[\"errors\"][0]['message'])\n",
        "    \n",
        "    return result[\"data\"][\"Get\"][\"Article\"]"
      ],
      "metadata": {
        "id": "4IVB4WNo1R5o"
      },
      "execution_count": 12,
      "outputs": []
    },
    {
      "cell_type": "code",
      "source": [
        "results = query_weaviate(\"bazar\")\n",
        "print(results)"
      ],
      "metadata": {
        "colab": {
          "base_uri": "https://localhost:8080/"
        },
        "id": "TAalz6n51zVB",
        "outputId": "39318e03-ad2d-459b-a2de-cd50caff83ce"
      },
      "execution_count": 13,
      "outputs": [
        {
          "output_type": "stream",
          "name": "stdout",
          "text": [
            "[{'_additional': {'certainty': 0.8965392410755157, 'distance': 0.20692152}, 'execsummary': 'The Cathedral and the Bazaar: Musings on Linux and Open Source by an Accidental Revolutionary (abbreviated CatB) is an essay, and later a book, by Eric S. Raymond on software engineering methods, based on his observations of the Linux kernel development process and his experiences managing an open source project, fetchmail. It examines the struggle between top-down and bottom-up design. The essay was first presented by the author at the Linux Kongress on May 27, 1997 in Würzburg (Germany) and was published as the second chapter of the same‑titled book in 1999.', 'title': 'The Cathedral and the Bazaar', 'url': 'https://en.wikipedia.org/wiki/The_Cathedral_and_the_Bazaar'}]\n"
          ]
        }
      ]
    },
    {
      "cell_type": "code",
      "source": [
        "def generativeai_weaviate(query):\n",
        "    \n",
        "    nearText = {\n",
        "        \"concepts\": [query],\n",
        "        \"distance\": 0.7,\n",
        "    }\n",
        "\n",
        "    properties = [\n",
        "        \"title\", \"execsummary\", \"url\",\n",
        "        \"_additional {certainty distance}\"\n",
        "    ]\n",
        "\n",
        "    prompt = \"Summarize as a tweet {execsummary}\"\n",
        "\n",
        "    result = (\n",
        "        client.query\n",
        "        .get(\"Article\", properties)\n",
        "        .with_near_text(nearText)\n",
        "        .with_generate(single_prompt=prompt)\n",
        "        .with_limit(10)\n",
        "        .do()\n",
        "    )\n",
        "    \n",
        "    # Check for errors\n",
        "    if (\"errors\" in result):\n",
        "        print (\"\\033[91mYou probably have run out of OpenAI API calls for the current minute – the limit is set at 60 per minute.\")\n",
        "        raise Exception(result[\"errors\"][0]['message'])\n",
        "    \n",
        "    return result[\"data\"][\"Get\"][\"Article\"]"
      ],
      "metadata": {
        "id": "BAGIcDer2XXl"
      },
      "execution_count": 16,
      "outputs": []
    },
    {
      "cell_type": "code",
      "source": [
        "results = generativeai_weaviate(\"bazar\")\n",
        "print(results)"
      ],
      "metadata": {
        "colab": {
          "base_uri": "https://localhost:8080/"
        },
        "id": "X5IqjN3P3ObP",
        "outputId": "855c65e0-05c3-4527-eb45-d4d6c6376544"
      },
      "execution_count": 36,
      "outputs": [
        {
          "output_type": "stream",
          "name": "stdout",
          "text": [
            "[{'_additional': {'certainty': 0.8965162038803101, 'distance': 0.20696759, 'generate': {'error': None, 'singleResult': 'CatB by Eric S. Raymond is an essay turned book on software engineering methods based on his observations of Linux kernel development and managing an open source project. It explores the conflict between top-down and bottom-up design. Presented in 1997 and published in 1999. #opensource #linux'}}, 'execsummary': 'The Cathedral and the Bazaar: Musings on Linux and Open Source by an Accidental Revolutionary (abbreviated CatB) is an essay, and later a book, by Eric S. Raymond on software engineering methods, based on his observations of the Linux kernel development process and his experiences managing an open source project, fetchmail. It examines the struggle between top-down and bottom-up design. The essay was first presented by the author at the Linux Kongress on May 27, 1997 in Würzburg (Germany) and was published as the second chapter of the same‑titled book in 1999.', 'title': 'The Cathedral and the Bazaar', 'url': 'https://en.wikipedia.org/wiki/The_Cathedral_and_the_Bazaar'}]\n"
          ]
        }
      ]
    },
    {
      "cell_type": "code",
      "source": [
        "!pip install scholarly"
      ],
      "metadata": {
        "colab": {
          "base_uri": "https://localhost:8080/"
        },
        "id": "M33pSPeB7Q50",
        "outputId": "536172bc-705e-4e5a-e0c1-4a2b10c7e5e1"
      },
      "execution_count": 22,
      "outputs": [
        {
          "output_type": "stream",
          "name": "stdout",
          "text": [
            "Looking in indexes: https://pypi.org/simple, https://us-python.pkg.dev/colab-wheels/public/simple/\n",
            "Collecting scholarly\n",
            "  Downloading scholarly-1.7.11-py3-none-any.whl (39 kB)\n",
            "Collecting arrow (from scholarly)\n",
            "  Downloading arrow-1.2.3-py3-none-any.whl (66 kB)\n",
            "\u001b[2K     \u001b[90m━━━━━━━━━━━━━━━━━━━━━━━━━━━━━━━━━━━━━━━━\u001b[0m \u001b[32m66.4/66.4 kB\u001b[0m \u001b[31m2.8 MB/s\u001b[0m eta \u001b[36m0:00:00\u001b[0m\n",
            "\u001b[?25hRequirement already satisfied: beautifulsoup4 in /usr/local/lib/python3.10/dist-packages (from scholarly) (4.11.2)\n",
            "Collecting bibtexparser (from scholarly)\n",
            "  Downloading bibtexparser-1.4.0.tar.gz (51 kB)\n",
            "\u001b[2K     \u001b[90m━━━━━━━━━━━━━━━━━━━━━━━━━━━━━━━━━━━━━━━━\u001b[0m \u001b[32m51.9/51.9 kB\u001b[0m \u001b[31m6.1 MB/s\u001b[0m eta \u001b[36m0:00:00\u001b[0m\n",
            "\u001b[?25h  Preparing metadata (setup.py) ... \u001b[?25l\u001b[?25hdone\n",
            "Collecting deprecated (from scholarly)\n",
            "  Downloading Deprecated-1.2.13-py2.py3-none-any.whl (9.6 kB)\n",
            "Collecting fake-useragent (from scholarly)\n",
            "  Downloading fake_useragent-1.1.3-py3-none-any.whl (50 kB)\n",
            "\u001b[2K     \u001b[90m━━━━━━━━━━━━━━━━━━━━━━━━━━━━━━━━━━━━━━━━\u001b[0m \u001b[32m50.5/50.5 kB\u001b[0m \u001b[31m5.6 MB/s\u001b[0m eta \u001b[36m0:00:00\u001b[0m\n",
            "\u001b[?25hCollecting free-proxy (from scholarly)\n",
            "  Downloading free_proxy-1.1.1.tar.gz (5.1 kB)\n",
            "  Preparing metadata (setup.py) ... \u001b[?25l\u001b[?25hdone\n",
            "Collecting httpx (from scholarly)\n",
            "  Downloading httpx-0.24.0-py3-none-any.whl (75 kB)\n",
            "\u001b[2K     \u001b[90m━━━━━━━━━━━━━━━━━━━━━━━━━━━━━━━━━━━━━━━━\u001b[0m \u001b[32m75.3/75.3 kB\u001b[0m \u001b[31m8.1 MB/s\u001b[0m eta \u001b[36m0:00:00\u001b[0m\n",
            "\u001b[?25hCollecting python-dotenv (from scholarly)\n",
            "  Downloading python_dotenv-1.0.0-py3-none-any.whl (19 kB)\n",
            "Requirement already satisfied: requests[socks] in /usr/local/lib/python3.10/dist-packages (from scholarly) (2.28.2)\n",
            "Collecting selenium (from scholarly)\n",
            "  Downloading selenium-4.9.1-py3-none-any.whl (6.6 MB)\n",
            "\u001b[2K     \u001b[90m━━━━━━━━━━━━━━━━━━━━━━━━━━━━━━━━━━━━━━━━\u001b[0m \u001b[32m6.6/6.6 MB\u001b[0m \u001b[31m56.9 MB/s\u001b[0m eta \u001b[36m0:00:00\u001b[0m\n",
            "\u001b[?25hCollecting sphinx-rtd-theme (from scholarly)\n",
            "  Downloading sphinx_rtd_theme-1.2.0-py2.py3-none-any.whl (2.8 MB)\n",
            "\u001b[2K     \u001b[90m━━━━━━━━━━━━━━━━━━━━━━━━━━━━━━━━━━━━━━━━\u001b[0m \u001b[32m2.8/2.8 MB\u001b[0m \u001b[31m87.2 MB/s\u001b[0m eta \u001b[36m0:00:00\u001b[0m\n",
            "\u001b[?25hRequirement already satisfied: typing-extensions in /usr/local/lib/python3.10/dist-packages (from scholarly) (4.5.0)\n",
            "Requirement already satisfied: python-dateutil>=2.7.0 in /usr/local/lib/python3.10/dist-packages (from arrow->scholarly) (2.8.2)\n",
            "Requirement already satisfied: soupsieve>1.2 in /usr/local/lib/python3.10/dist-packages (from beautifulsoup4->scholarly) (2.4.1)\n",
            "Requirement already satisfied: pyparsing>=2.0.3 in /usr/local/lib/python3.10/dist-packages (from bibtexparser->scholarly) (3.0.9)\n",
            "Requirement already satisfied: wrapt<2,>=1.10 in /usr/local/lib/python3.10/dist-packages (from deprecated->scholarly) (1.14.1)\n",
            "Requirement already satisfied: lxml in /usr/local/lib/python3.10/dist-packages (from free-proxy->scholarly) (4.9.2)\n",
            "Requirement already satisfied: certifi in /usr/local/lib/python3.10/dist-packages (from httpx->scholarly) (2022.12.7)\n",
            "Collecting httpcore<0.18.0,>=0.15.0 (from httpx->scholarly)\n",
            "  Downloading httpcore-0.17.0-py3-none-any.whl (70 kB)\n",
            "\u001b[2K     \u001b[90m━━━━━━━━━━━━━━━━━━━━━━━━━━━━━━━━━━━━━━━━\u001b[0m \u001b[32m70.6/70.6 kB\u001b[0m \u001b[31m8.7 MB/s\u001b[0m eta \u001b[36m0:00:00\u001b[0m\n",
            "\u001b[?25hRequirement already satisfied: idna in /usr/local/lib/python3.10/dist-packages (from httpx->scholarly) (3.4)\n",
            "Requirement already satisfied: sniffio in /usr/local/lib/python3.10/dist-packages (from httpx->scholarly) (1.3.0)\n",
            "Requirement already satisfied: charset-normalizer<4,>=2 in /usr/local/lib/python3.10/dist-packages (from requests[socks]->scholarly) (2.0.12)\n",
            "Requirement already satisfied: urllib3<1.27,>=1.21.1 in /usr/local/lib/python3.10/dist-packages (from requests[socks]->scholarly) (1.26.15)\n",
            "Requirement already satisfied: PySocks!=1.5.7,>=1.5.6 in /usr/local/lib/python3.10/dist-packages (from requests[socks]->scholarly) (1.7.1)\n",
            "Collecting trio~=0.17 (from selenium->scholarly)\n",
            "  Downloading trio-0.22.0-py3-none-any.whl (384 kB)\n",
            "\u001b[2K     \u001b[90m━━━━━━━━━━━━━━━━━━━━━━━━━━━━━━━━━━━━━━\u001b[0m \u001b[32m384.9/384.9 kB\u001b[0m \u001b[31m34.0 MB/s\u001b[0m eta \u001b[36m0:00:00\u001b[0m\n",
            "\u001b[?25hCollecting trio-websocket~=0.9 (from selenium->scholarly)\n",
            "  Downloading trio_websocket-0.10.2-py3-none-any.whl (17 kB)\n",
            "Requirement already satisfied: sphinx<7,>=1.6 in /usr/local/lib/python3.10/dist-packages (from sphinx-rtd-theme->scholarly) (3.5.4)\n",
            "Requirement already satisfied: docutils<0.19 in /usr/local/lib/python3.10/dist-packages (from sphinx-rtd-theme->scholarly) (0.16)\n",
            "Collecting sphinxcontrib-jquery!=3.0.0,>=2.0.0 (from sphinx-rtd-theme->scholarly)\n",
            "  Downloading sphinxcontrib_jquery-4.1-py2.py3-none-any.whl (121 kB)\n",
            "\u001b[2K     \u001b[90m━━━━━━━━━━━━━━━━━━━━━━━━━━━━━━━━━━━━━━\u001b[0m \u001b[32m121.1/121.1 kB\u001b[0m \u001b[31m14.1 MB/s\u001b[0m eta \u001b[36m0:00:00\u001b[0m\n",
            "\u001b[?25hCollecting h11<0.15,>=0.13 (from httpcore<0.18.0,>=0.15.0->httpx->scholarly)\n",
            "  Downloading h11-0.14.0-py3-none-any.whl (58 kB)\n",
            "\u001b[2K     \u001b[90m━━━━━━━━━━━━━━━━━━━━━━━━━━━━━━━━━━━━━━━━\u001b[0m \u001b[32m58.3/58.3 kB\u001b[0m \u001b[31m7.2 MB/s\u001b[0m eta \u001b[36m0:00:00\u001b[0m\n",
            "\u001b[?25hRequirement already satisfied: anyio<5.0,>=3.0 in /usr/local/lib/python3.10/dist-packages (from httpcore<0.18.0,>=0.15.0->httpx->scholarly) (3.6.2)\n",
            "Requirement already satisfied: six>=1.5 in /usr/local/lib/python3.10/dist-packages (from python-dateutil>=2.7.0->arrow->scholarly) (1.16.0)\n",
            "Requirement already satisfied: sphinxcontrib-applehelp in /usr/local/lib/python3.10/dist-packages (from sphinx<7,>=1.6->sphinx-rtd-theme->scholarly) (1.0.4)\n",
            "Requirement already satisfied: sphinxcontrib-devhelp in /usr/local/lib/python3.10/dist-packages (from sphinx<7,>=1.6->sphinx-rtd-theme->scholarly) (1.0.2)\n",
            "Requirement already satisfied: sphinxcontrib-jsmath in /usr/local/lib/python3.10/dist-packages (from sphinx<7,>=1.6->sphinx-rtd-theme->scholarly) (1.0.1)\n",
            "Requirement already satisfied: sphinxcontrib-htmlhelp in /usr/local/lib/python3.10/dist-packages (from sphinx<7,>=1.6->sphinx-rtd-theme->scholarly) (2.0.1)\n",
            "Requirement already satisfied: sphinxcontrib-serializinghtml in /usr/local/lib/python3.10/dist-packages (from sphinx<7,>=1.6->sphinx-rtd-theme->scholarly) (1.1.5)\n",
            "Requirement already satisfied: sphinxcontrib-qthelp in /usr/local/lib/python3.10/dist-packages (from sphinx<7,>=1.6->sphinx-rtd-theme->scholarly) (1.0.3)\n",
            "Requirement already satisfied: Jinja2>=2.3 in /usr/local/lib/python3.10/dist-packages (from sphinx<7,>=1.6->sphinx-rtd-theme->scholarly) (3.1.2)\n",
            "Requirement already satisfied: Pygments>=2.0 in /usr/local/lib/python3.10/dist-packages (from sphinx<7,>=1.6->sphinx-rtd-theme->scholarly) (2.14.0)\n",
            "Requirement already satisfied: snowballstemmer>=1.1 in /usr/local/lib/python3.10/dist-packages (from sphinx<7,>=1.6->sphinx-rtd-theme->scholarly) (2.2.0)\n",
            "Requirement already satisfied: babel>=1.3 in /usr/local/lib/python3.10/dist-packages (from sphinx<7,>=1.6->sphinx-rtd-theme->scholarly) (2.12.1)\n",
            "Requirement already satisfied: alabaster<0.8,>=0.7 in /usr/local/lib/python3.10/dist-packages (from sphinx<7,>=1.6->sphinx-rtd-theme->scholarly) (0.7.13)\n",
            "Requirement already satisfied: imagesize in /usr/local/lib/python3.10/dist-packages (from sphinx<7,>=1.6->sphinx-rtd-theme->scholarly) (1.4.1)\n",
            "Requirement already satisfied: setuptools in /usr/local/lib/python3.10/dist-packages (from sphinx<7,>=1.6->sphinx-rtd-theme->scholarly) (67.7.2)\n",
            "Requirement already satisfied: packaging in /usr/local/lib/python3.10/dist-packages (from sphinx<7,>=1.6->sphinx-rtd-theme->scholarly) (23.1)\n",
            "Requirement already satisfied: attrs>=19.2.0 in /usr/local/lib/python3.10/dist-packages (from trio~=0.17->selenium->scholarly) (23.1.0)\n",
            "Requirement already satisfied: sortedcontainers in /usr/local/lib/python3.10/dist-packages (from trio~=0.17->selenium->scholarly) (2.4.0)\n",
            "Collecting async-generator>=1.9 (from trio~=0.17->selenium->scholarly)\n",
            "  Downloading async_generator-1.10-py3-none-any.whl (18 kB)\n",
            "Collecting outcome (from trio~=0.17->selenium->scholarly)\n",
            "  Downloading outcome-1.2.0-py2.py3-none-any.whl (9.7 kB)\n",
            "Requirement already satisfied: exceptiongroup>=1.0.0rc9 in /usr/local/lib/python3.10/dist-packages (from trio~=0.17->selenium->scholarly) (1.1.1)\n",
            "Collecting wsproto>=0.14 (from trio-websocket~=0.9->selenium->scholarly)\n",
            "  Downloading wsproto-1.2.0-py3-none-any.whl (24 kB)\n",
            "Requirement already satisfied: MarkupSafe>=2.0 in /usr/local/lib/python3.10/dist-packages (from Jinja2>=2.3->sphinx<7,>=1.6->sphinx-rtd-theme->scholarly) (2.1.2)\n",
            "Building wheels for collected packages: bibtexparser, free-proxy\n",
            "  Building wheel for bibtexparser (setup.py) ... \u001b[?25l\u001b[?25hdone\n",
            "  Created wheel for bibtexparser: filename=bibtexparser-1.4.0-py3-none-any.whl size=42429 sha256=246107f51aa63e970af29292b5d8962b2481e52f38cf8517649fe63f7fe4f2df\n",
            "  Stored in directory: /root/.cache/pip/wheels/5d/de/d5/4e42fd75d48106e7c4023d6594c2992db38afa7019f96139a2\n",
            "  Building wheel for free-proxy (setup.py) ... \u001b[?25l\u001b[?25hdone\n",
            "  Created wheel for free-proxy: filename=free_proxy-1.1.1-py3-none-any.whl size=5636 sha256=080164e752f36a87b839b1518c572f82d3d4f0e8436d9c52eb9fc82869ee574a\n",
            "  Stored in directory: /root/.cache/pip/wheels/5a/96/c7/5a434714fff4fea9a59075428b142626e0a74f8c3bf90a50d0\n",
            "Successfully built bibtexparser free-proxy\n",
            "Installing collected packages: fake-useragent, python-dotenv, outcome, h11, deprecated, bibtexparser, async-generator, wsproto, trio, httpcore, free-proxy, arrow, trio-websocket, sphinxcontrib-jquery, httpx, sphinx-rtd-theme, selenium, scholarly\n",
            "Successfully installed arrow-1.2.3 async-generator-1.10 bibtexparser-1.4.0 deprecated-1.2.13 fake-useragent-1.1.3 free-proxy-1.1.1 h11-0.14.0 httpcore-0.17.0 httpx-0.24.0 outcome-1.2.0 python-dotenv-1.0.0 scholarly-1.7.11 selenium-4.9.1 sphinx-rtd-theme-1.2.0 sphinxcontrib-jquery-4.1 trio-0.22.0 trio-websocket-0.10.2 wsproto-1.2.0\n"
          ]
        }
      ]
    },
    {
      "cell_type": "code",
      "source": [
        "from scholarly import scholarly, ProxyGenerator\n",
        "\n",
        "pg = ProxyGenerator()\n",
        "success = pg.FreeProxies()\n",
        "scholarly.use_proxy(pg)\n"
      ],
      "metadata": {
        "id": "gxD2Yc3I-HIR"
      },
      "execution_count": 29,
      "outputs": []
    },
    {
      "cell_type": "code",
      "source": [
        "from scholarly import scholarly\n",
        "import sys\n",
        "\n",
        "#search_query = scholarly.search_pubs('Perception of physical stability and center of mass of 3D objects')\n",
        "#scholarly.pprint(next(search_query))\n",
        "#sys.exit()\n",
        "\n",
        "# Retrieve the author's data, fill-in, and print\n",
        "# Get an iterator for the author results\n",
        "search_query = scholarly.search_author('Steven A Cholewiak')\n",
        "# Retrieve the first result from the iterator\n",
        "first_author_result = next(search_query)\n",
        "#scholarly.pprint(first_author_result)\n",
        "\n",
        "# Retrieve all the details for the author\n",
        "author = scholarly.fill(first_author_result )\n",
        "#scholarly.pprint(author)\n",
        "\n",
        "# Take a closer look at the first publication\n",
        "first_publication = author['publications'][0]\n",
        "first_publication_filled = scholarly.fill(first_publication)\n",
        "scholarly.pprint(first_publication_filled)\n",
        "\n",
        "# Print the titles of the author's publications\n",
        "#publication_titles = [pub['bib']['title'] for pub in author['publications']]\n",
        "#print(publication_titles)\n",
        "\n",
        "# Which papers cited that publication?\n",
        "#citations = [citation['bib']['title'] for citation in scholarly.citedby(first_publication_filled)]\n",
        "#print(citations)"
      ],
      "metadata": {
        "colab": {
          "base_uri": "https://localhost:8080/"
        },
        "id": "2gDl_Gpc7ziq",
        "outputId": "ba19e70a-a37f-475d-c8cc-2fc6dbe19fc6"
      },
      "execution_count": 37,
      "outputs": [
        {
          "output_type": "stream",
          "name": "stdout",
          "text": [
            "b\"{'author_pub_id': '4bahYMkAAAAJ:u5HHmVD_uO8C',\\n 'bib': {'abstract': 'The detectability and discriminability of virtual haptic '\\n                     'gratings were analyzed in the frequency domain. '\\n                     'Detection (Exp. 1) and discrimination (Exp. 2) '\\n                     'thresholds for virtual haptic gratings were estimated '\\n                     'using a force-feedback device that simulated sinusoidal '\\n                     'and square-wave gratings with spatial periods from 0.2 '\\n                     'to 38.4 mm. The detection threshold results indicated '\\n                     'that for spatial periods up to 6.4 mm (i.e., spatial '\\n                     'frequencies >0.156 cycle/mm), the detectability of '\\n                     'square-wave gratings could be predicted quantitatively '\\n                     'from the detection thresholds of their corresponding '\\n                     'fundamental components. The discrimination experiment '\\n                     'confirmed that at higher spatial frequencies, the '\\n                     'square-wave gratings were initially indistinguishable '\\n                     'from the corresponding fundamental components until the '\\n                     'third harmonics were detectable. At lower spatial '\\n                     'frequencies, the third harmonic components of '\\n                     'square-wave gratings had lower \\xe2\\x80\\xa6',\\n         'author': 'Steven A Cholewiak and Kwangtaek Kim and Hong Z Tan and '\\n                   'Bernard D Adelstein',\\n         'citation': 'IEEE Transactions on Haptics 3 (1), 3-14, 2009',\\n         'journal': 'IEEE Transactions on Haptics',\\n         'number': '1',\\n         'pages': '3-14',\\n         'pub_year': 2009,\\n         'publisher': 'IEEE',\\n         'title': 'A frequency-domain analysis of haptic gratings',\\n         'volume': '3'},\\n 'citedby_url': '/scholar?hl=en&cites=18104797610932568627',\\n 'cites_id': ['18104797610932568627'],\\n 'cites_per_year': {2010: 2,\\n                    2011: 7,\\n                    2012: 10,\\n                    2013: 5,\\n                    2014: 2,\\n                    2015: 4,\\n                    2016: 4,\\n                    2017: 5,\\n                    2018: 3,\\n                    2019: 3,\\n                    2020: 9,\\n                    2021: 7,\\n                    2022: 4,\\n                    2023: 1},\\n 'filled': True,\\n 'num_citations': 66,\\n 'pub_url': 'https://ieeexplore.ieee.org/abstract/document/5210096/',\\n 'source': 'AUTHOR_PUBLICATION_ENTRY',\\n 'url_related_articles': '/scholar?oi=bibs&hl=en&q=related:MwL6-YApQfsJ:scholar.google.com/'}\"\n"
          ]
        }
      ]
    }
  ]
}